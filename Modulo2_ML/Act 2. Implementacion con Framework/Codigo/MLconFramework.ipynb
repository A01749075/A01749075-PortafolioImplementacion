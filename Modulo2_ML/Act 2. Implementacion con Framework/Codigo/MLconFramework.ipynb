{
 "cells": [
  {
   "cell_type": "markdown",
   "id": "e44e5ffd",
   "metadata": {},
   "source": [
    "# **Implementación de un algoritmo de ML usando framework**"
   ]
  },
  {
   "cell_type": "markdown",
   "id": "1e61d0f6",
   "metadata": {},
   "source": [
    "## **Librerías**"
   ]
  }
 ],
 "metadata": {
  "language_info": {
   "name": "python"
  }
 },
 "nbformat": 4,
 "nbformat_minor": 5
}
