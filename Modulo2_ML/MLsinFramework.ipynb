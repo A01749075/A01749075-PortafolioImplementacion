{
 "cells": [
  {
   "cell_type": "markdown",
   "id": "46841c85",
   "metadata": {},
   "source": [
    "# **Implementación Gradient Descent sin el uso de un framework**"
   ]
  },
  {
   "cell_type": "code",
   "execution_count": 133,
   "id": "bbaf0716",
   "metadata": {},
   "outputs": [],
   "source": [
    "import pandas as pd\n",
    "import numpy as np"
   ]
  },
  {
   "cell_type": "code",
   "execution_count": 134,
   "id": "13497ac9",
   "metadata": {},
   "outputs": [
    {
     "data": {
      "text/html": [
       "<div>\n",
       "<style scoped>\n",
       "    .dataframe tbody tr th:only-of-type {\n",
       "        vertical-align: middle;\n",
       "    }\n",
       "\n",
       "    .dataframe tbody tr th {\n",
       "        vertical-align: top;\n",
       "    }\n",
       "\n",
       "    .dataframe thead th {\n",
       "        text-align: right;\n",
       "    }\n",
       "</style>\n",
       "<table border=\"1\" class=\"dataframe\">\n",
       "  <thead>\n",
       "    <tr style=\"text-align: right;\">\n",
       "      <th></th>\n",
       "      <th>Hours Studied</th>\n",
       "      <th>Previous Scores</th>\n",
       "      <th>Extracurricular Activities</th>\n",
       "      <th>Sleep Hours</th>\n",
       "      <th>Sample Question Papers Practiced</th>\n",
       "      <th>Performance Index</th>\n",
       "    </tr>\n",
       "  </thead>\n",
       "  <tbody>\n",
       "    <tr>\n",
       "      <th>0</th>\n",
       "      <td>7</td>\n",
       "      <td>99</td>\n",
       "      <td>Yes</td>\n",
       "      <td>9</td>\n",
       "      <td>1</td>\n",
       "      <td>91.0</td>\n",
       "    </tr>\n",
       "    <tr>\n",
       "      <th>1</th>\n",
       "      <td>4</td>\n",
       "      <td>82</td>\n",
       "      <td>No</td>\n",
       "      <td>4</td>\n",
       "      <td>2</td>\n",
       "      <td>65.0</td>\n",
       "    </tr>\n",
       "    <tr>\n",
       "      <th>2</th>\n",
       "      <td>8</td>\n",
       "      <td>51</td>\n",
       "      <td>Yes</td>\n",
       "      <td>7</td>\n",
       "      <td>2</td>\n",
       "      <td>45.0</td>\n",
       "    </tr>\n",
       "    <tr>\n",
       "      <th>3</th>\n",
       "      <td>5</td>\n",
       "      <td>52</td>\n",
       "      <td>Yes</td>\n",
       "      <td>5</td>\n",
       "      <td>2</td>\n",
       "      <td>36.0</td>\n",
       "    </tr>\n",
       "    <tr>\n",
       "      <th>4</th>\n",
       "      <td>7</td>\n",
       "      <td>75</td>\n",
       "      <td>No</td>\n",
       "      <td>8</td>\n",
       "      <td>5</td>\n",
       "      <td>66.0</td>\n",
       "    </tr>\n",
       "    <tr>\n",
       "      <th>...</th>\n",
       "      <td>...</td>\n",
       "      <td>...</td>\n",
       "      <td>...</td>\n",
       "      <td>...</td>\n",
       "      <td>...</td>\n",
       "      <td>...</td>\n",
       "    </tr>\n",
       "    <tr>\n",
       "      <th>9995</th>\n",
       "      <td>1</td>\n",
       "      <td>49</td>\n",
       "      <td>Yes</td>\n",
       "      <td>4</td>\n",
       "      <td>2</td>\n",
       "      <td>23.0</td>\n",
       "    </tr>\n",
       "    <tr>\n",
       "      <th>9996</th>\n",
       "      <td>7</td>\n",
       "      <td>64</td>\n",
       "      <td>Yes</td>\n",
       "      <td>8</td>\n",
       "      <td>5</td>\n",
       "      <td>58.0</td>\n",
       "    </tr>\n",
       "    <tr>\n",
       "      <th>9997</th>\n",
       "      <td>6</td>\n",
       "      <td>83</td>\n",
       "      <td>Yes</td>\n",
       "      <td>8</td>\n",
       "      <td>5</td>\n",
       "      <td>74.0</td>\n",
       "    </tr>\n",
       "    <tr>\n",
       "      <th>9998</th>\n",
       "      <td>9</td>\n",
       "      <td>97</td>\n",
       "      <td>Yes</td>\n",
       "      <td>7</td>\n",
       "      <td>0</td>\n",
       "      <td>95.0</td>\n",
       "    </tr>\n",
       "    <tr>\n",
       "      <th>9999</th>\n",
       "      <td>7</td>\n",
       "      <td>74</td>\n",
       "      <td>No</td>\n",
       "      <td>8</td>\n",
       "      <td>1</td>\n",
       "      <td>64.0</td>\n",
       "    </tr>\n",
       "  </tbody>\n",
       "</table>\n",
       "<p>10000 rows × 6 columns</p>\n",
       "</div>"
      ],
      "text/plain": [
       "      Hours Studied  Previous Scores Extracurricular Activities  Sleep Hours  \\\n",
       "0                 7               99                        Yes            9   \n",
       "1                 4               82                         No            4   \n",
       "2                 8               51                        Yes            7   \n",
       "3                 5               52                        Yes            5   \n",
       "4                 7               75                         No            8   \n",
       "...             ...              ...                        ...          ...   \n",
       "9995              1               49                        Yes            4   \n",
       "9996              7               64                        Yes            8   \n",
       "9997              6               83                        Yes            8   \n",
       "9998              9               97                        Yes            7   \n",
       "9999              7               74                         No            8   \n",
       "\n",
       "      Sample Question Papers Practiced  Performance Index  \n",
       "0                                    1               91.0  \n",
       "1                                    2               65.0  \n",
       "2                                    2               45.0  \n",
       "3                                    2               36.0  \n",
       "4                                    5               66.0  \n",
       "...                                ...                ...  \n",
       "9995                                 2               23.0  \n",
       "9996                                 5               58.0  \n",
       "9997                                 5               74.0  \n",
       "9998                                 0               95.0  \n",
       "9999                                 1               64.0  \n",
       "\n",
       "[10000 rows x 6 columns]"
      ]
     },
     "execution_count": 134,
     "metadata": {},
     "output_type": "execute_result"
    }
   ],
   "source": [
    "# Cargar dataset\n",
    "data = pd.read_csv(\"Student_Performance.csv\")\n",
    "data"
   ]
  },
  {
   "cell_type": "code",
   "execution_count": 135,
   "id": "3782b6c9",
   "metadata": {},
   "outputs": [
    {
     "data": {
      "text/plain": [
       "array(['Yes', 'No'], dtype=object)"
      ]
     },
     "execution_count": 135,
     "metadata": {},
     "output_type": "execute_result"
    }
   ],
   "source": [
    "data['Extracurricular Activities'].unique()"
   ]
  },
  {
   "cell_type": "code",
   "execution_count": 136,
   "id": "898c19a3",
   "metadata": {},
   "outputs": [
    {
     "data": {
      "text/html": [
       "<div>\n",
       "<style scoped>\n",
       "    .dataframe tbody tr th:only-of-type {\n",
       "        vertical-align: middle;\n",
       "    }\n",
       "\n",
       "    .dataframe tbody tr th {\n",
       "        vertical-align: top;\n",
       "    }\n",
       "\n",
       "    .dataframe thead th {\n",
       "        text-align: right;\n",
       "    }\n",
       "</style>\n",
       "<table border=\"1\" class=\"dataframe\">\n",
       "  <thead>\n",
       "    <tr style=\"text-align: right;\">\n",
       "      <th></th>\n",
       "      <th>Hours Studied</th>\n",
       "      <th>Previous Scores</th>\n",
       "      <th>Extracurricular Activities</th>\n",
       "      <th>Sleep Hours</th>\n",
       "      <th>Sample Question Papers Practiced</th>\n",
       "      <th>Performance Index</th>\n",
       "    </tr>\n",
       "  </thead>\n",
       "  <tbody>\n",
       "    <tr>\n",
       "      <th>0</th>\n",
       "      <td>7</td>\n",
       "      <td>99</td>\n",
       "      <td>1</td>\n",
       "      <td>9</td>\n",
       "      <td>1</td>\n",
       "      <td>91.0</td>\n",
       "    </tr>\n",
       "    <tr>\n",
       "      <th>1</th>\n",
       "      <td>4</td>\n",
       "      <td>82</td>\n",
       "      <td>0</td>\n",
       "      <td>4</td>\n",
       "      <td>2</td>\n",
       "      <td>65.0</td>\n",
       "    </tr>\n",
       "    <tr>\n",
       "      <th>2</th>\n",
       "      <td>8</td>\n",
       "      <td>51</td>\n",
       "      <td>1</td>\n",
       "      <td>7</td>\n",
       "      <td>2</td>\n",
       "      <td>45.0</td>\n",
       "    </tr>\n",
       "    <tr>\n",
       "      <th>3</th>\n",
       "      <td>5</td>\n",
       "      <td>52</td>\n",
       "      <td>1</td>\n",
       "      <td>5</td>\n",
       "      <td>2</td>\n",
       "      <td>36.0</td>\n",
       "    </tr>\n",
       "    <tr>\n",
       "      <th>4</th>\n",
       "      <td>7</td>\n",
       "      <td>75</td>\n",
       "      <td>0</td>\n",
       "      <td>8</td>\n",
       "      <td>5</td>\n",
       "      <td>66.0</td>\n",
       "    </tr>\n",
       "    <tr>\n",
       "      <th>...</th>\n",
       "      <td>...</td>\n",
       "      <td>...</td>\n",
       "      <td>...</td>\n",
       "      <td>...</td>\n",
       "      <td>...</td>\n",
       "      <td>...</td>\n",
       "    </tr>\n",
       "    <tr>\n",
       "      <th>9995</th>\n",
       "      <td>1</td>\n",
       "      <td>49</td>\n",
       "      <td>1</td>\n",
       "      <td>4</td>\n",
       "      <td>2</td>\n",
       "      <td>23.0</td>\n",
       "    </tr>\n",
       "    <tr>\n",
       "      <th>9996</th>\n",
       "      <td>7</td>\n",
       "      <td>64</td>\n",
       "      <td>1</td>\n",
       "      <td>8</td>\n",
       "      <td>5</td>\n",
       "      <td>58.0</td>\n",
       "    </tr>\n",
       "    <tr>\n",
       "      <th>9997</th>\n",
       "      <td>6</td>\n",
       "      <td>83</td>\n",
       "      <td>1</td>\n",
       "      <td>8</td>\n",
       "      <td>5</td>\n",
       "      <td>74.0</td>\n",
       "    </tr>\n",
       "    <tr>\n",
       "      <th>9998</th>\n",
       "      <td>9</td>\n",
       "      <td>97</td>\n",
       "      <td>1</td>\n",
       "      <td>7</td>\n",
       "      <td>0</td>\n",
       "      <td>95.0</td>\n",
       "    </tr>\n",
       "    <tr>\n",
       "      <th>9999</th>\n",
       "      <td>7</td>\n",
       "      <td>74</td>\n",
       "      <td>0</td>\n",
       "      <td>8</td>\n",
       "      <td>1</td>\n",
       "      <td>64.0</td>\n",
       "    </tr>\n",
       "  </tbody>\n",
       "</table>\n",
       "<p>10000 rows × 6 columns</p>\n",
       "</div>"
      ],
      "text/plain": [
       "      Hours Studied  Previous Scores  Extracurricular Activities  Sleep Hours  \\\n",
       "0                 7               99                           1            9   \n",
       "1                 4               82                           0            4   \n",
       "2                 8               51                           1            7   \n",
       "3                 5               52                           1            5   \n",
       "4                 7               75                           0            8   \n",
       "...             ...              ...                         ...          ...   \n",
       "9995              1               49                           1            4   \n",
       "9996              7               64                           1            8   \n",
       "9997              6               83                           1            8   \n",
       "9998              9               97                           1            7   \n",
       "9999              7               74                           0            8   \n",
       "\n",
       "      Sample Question Papers Practiced  Performance Index  \n",
       "0                                    1               91.0  \n",
       "1                                    2               65.0  \n",
       "2                                    2               45.0  \n",
       "3                                    2               36.0  \n",
       "4                                    5               66.0  \n",
       "...                                ...                ...  \n",
       "9995                                 2               23.0  \n",
       "9996                                 5               58.0  \n",
       "9997                                 5               74.0  \n",
       "9998                                 0               95.0  \n",
       "9999                                 1               64.0  \n",
       "\n",
       "[10000 rows x 6 columns]"
      ]
     },
     "execution_count": 136,
     "metadata": {},
     "output_type": "execute_result"
    }
   ],
   "source": [
    "# Transformar variables categóricas a numéricas con mapeo\n",
    "data['Extracurricular Activities'] = data['Extracurricular Activities'].map({'No': 0, 'Yes': 1})\n",
    "data"
   ]
  },
  {
   "cell_type": "code",
   "execution_count": 137,
   "id": "af0c5bb7",
   "metadata": {},
   "outputs": [
    {
     "data": {
      "text/plain": [
       "array([ 10.,  11.,  12.,  13.,  14.,  15.,  16.,  17.,  18.,  19.,  20.,\n",
       "        21.,  22.,  23.,  24.,  25.,  26.,  27.,  28.,  29.,  30.,  31.,\n",
       "        32.,  33.,  34.,  35.,  36.,  37.,  38.,  39.,  40.,  41.,  42.,\n",
       "        43.,  44.,  45.,  46.,  47.,  48.,  49.,  50.,  51.,  52.,  53.,\n",
       "        54.,  55.,  56.,  57.,  58.,  59.,  60.,  61.,  62.,  63.,  64.,\n",
       "        65.,  66.,  67.,  68.,  69.,  70.,  71.,  72.,  73.,  74.,  75.,\n",
       "        76.,  77.,  78.,  79.,  80.,  81.,  82.,  83.,  84.,  85.,  86.,\n",
       "        87.,  88.,  89.,  90.,  91.,  92.,  93.,  94.,  95.,  96.,  97.,\n",
       "        98.,  99., 100.])"
      ]
     },
     "execution_count": 137,
     "metadata": {},
     "output_type": "execute_result"
    }
   ],
   "source": [
    "# Valores unicos de la columna objetivo\n",
    "unique_values = np.unique(data['Performance Index'])\n",
    "unique_values\n"
   ]
  },
  {
   "cell_type": "code",
   "execution_count": 138,
   "id": "7e9c4889",
   "metadata": {},
   "outputs": [
    {
     "data": {
      "text/html": [
       "<div>\n",
       "<style scoped>\n",
       "    .dataframe tbody tr th:only-of-type {\n",
       "        vertical-align: middle;\n",
       "    }\n",
       "\n",
       "    .dataframe tbody tr th {\n",
       "        vertical-align: top;\n",
       "    }\n",
       "\n",
       "    .dataframe thead th {\n",
       "        text-align: right;\n",
       "    }\n",
       "</style>\n",
       "<table border=\"1\" class=\"dataframe\">\n",
       "  <thead>\n",
       "    <tr style=\"text-align: right;\">\n",
       "      <th></th>\n",
       "      <th>Hours Studied</th>\n",
       "      <th>Previous Scores</th>\n",
       "      <th>Extracurricular Activities</th>\n",
       "      <th>Sleep Hours</th>\n",
       "      <th>Sample Question Papers Practiced</th>\n",
       "      <th>Performance Index</th>\n",
       "    </tr>\n",
       "  </thead>\n",
       "  <tbody>\n",
       "    <tr>\n",
       "      <th>0</th>\n",
       "      <td>7</td>\n",
       "      <td>99</td>\n",
       "      <td>1</td>\n",
       "      <td>9</td>\n",
       "      <td>1</td>\n",
       "      <td>Passed</td>\n",
       "    </tr>\n",
       "    <tr>\n",
       "      <th>1</th>\n",
       "      <td>4</td>\n",
       "      <td>82</td>\n",
       "      <td>0</td>\n",
       "      <td>4</td>\n",
       "      <td>2</td>\n",
       "      <td>Failed</td>\n",
       "    </tr>\n",
       "    <tr>\n",
       "      <th>2</th>\n",
       "      <td>8</td>\n",
       "      <td>51</td>\n",
       "      <td>1</td>\n",
       "      <td>7</td>\n",
       "      <td>2</td>\n",
       "      <td>Failed</td>\n",
       "    </tr>\n",
       "    <tr>\n",
       "      <th>3</th>\n",
       "      <td>5</td>\n",
       "      <td>52</td>\n",
       "      <td>1</td>\n",
       "      <td>5</td>\n",
       "      <td>2</td>\n",
       "      <td>Failed</td>\n",
       "    </tr>\n",
       "    <tr>\n",
       "      <th>4</th>\n",
       "      <td>7</td>\n",
       "      <td>75</td>\n",
       "      <td>0</td>\n",
       "      <td>8</td>\n",
       "      <td>5</td>\n",
       "      <td>Failed</td>\n",
       "    </tr>\n",
       "    <tr>\n",
       "      <th>...</th>\n",
       "      <td>...</td>\n",
       "      <td>...</td>\n",
       "      <td>...</td>\n",
       "      <td>...</td>\n",
       "      <td>...</td>\n",
       "      <td>...</td>\n",
       "    </tr>\n",
       "    <tr>\n",
       "      <th>9995</th>\n",
       "      <td>1</td>\n",
       "      <td>49</td>\n",
       "      <td>1</td>\n",
       "      <td>4</td>\n",
       "      <td>2</td>\n",
       "      <td>Failed</td>\n",
       "    </tr>\n",
       "    <tr>\n",
       "      <th>9996</th>\n",
       "      <td>7</td>\n",
       "      <td>64</td>\n",
       "      <td>1</td>\n",
       "      <td>8</td>\n",
       "      <td>5</td>\n",
       "      <td>Failed</td>\n",
       "    </tr>\n",
       "    <tr>\n",
       "      <th>9997</th>\n",
       "      <td>6</td>\n",
       "      <td>83</td>\n",
       "      <td>1</td>\n",
       "      <td>8</td>\n",
       "      <td>5</td>\n",
       "      <td>Passed</td>\n",
       "    </tr>\n",
       "    <tr>\n",
       "      <th>9998</th>\n",
       "      <td>9</td>\n",
       "      <td>97</td>\n",
       "      <td>1</td>\n",
       "      <td>7</td>\n",
       "      <td>0</td>\n",
       "      <td>Passed</td>\n",
       "    </tr>\n",
       "    <tr>\n",
       "      <th>9999</th>\n",
       "      <td>7</td>\n",
       "      <td>74</td>\n",
       "      <td>0</td>\n",
       "      <td>8</td>\n",
       "      <td>1</td>\n",
       "      <td>Failed</td>\n",
       "    </tr>\n",
       "  </tbody>\n",
       "</table>\n",
       "<p>10000 rows × 6 columns</p>\n",
       "</div>"
      ],
      "text/plain": [
       "      Hours Studied  Previous Scores  Extracurricular Activities  Sleep Hours  \\\n",
       "0                 7               99                           1            9   \n",
       "1                 4               82                           0            4   \n",
       "2                 8               51                           1            7   \n",
       "3                 5               52                           1            5   \n",
       "4                 7               75                           0            8   \n",
       "...             ...              ...                         ...          ...   \n",
       "9995              1               49                           1            4   \n",
       "9996              7               64                           1            8   \n",
       "9997              6               83                           1            8   \n",
       "9998              9               97                           1            7   \n",
       "9999              7               74                           0            8   \n",
       "\n",
       "      Sample Question Papers Practiced Performance Index  \n",
       "0                                    1            Passed  \n",
       "1                                    2            Failed  \n",
       "2                                    2            Failed  \n",
       "3                                    2            Failed  \n",
       "4                                    5            Failed  \n",
       "...                                ...               ...  \n",
       "9995                                 2            Failed  \n",
       "9996                                 5            Failed  \n",
       "9997                                 5            Passed  \n",
       "9998                                 0            Passed  \n",
       "9999                                 1            Failed  \n",
       "\n",
       "[10000 rows x 6 columns]"
      ]
     },
     "execution_count": 138,
     "metadata": {},
     "output_type": "execute_result"
    }
   ],
   "source": [
    "# Transformar variable objetivo en categórica failed y passed\n",
    "data['Performance Index'] = ['Passed' if x > 70 else 'Failed' for x in data['Performance Index']]\n",
    "data"
   ]
  },
  {
   "cell_type": "code",
   "execution_count": 139,
   "id": "6d4aff7f",
   "metadata": {},
   "outputs": [
    {
     "name": "stdout",
     "output_type": "stream",
     "text": [
      "<class 'pandas.core.frame.DataFrame'>\n",
      "RangeIndex: 10000 entries, 0 to 9999\n",
      "Data columns (total 6 columns):\n",
      " #   Column                            Non-Null Count  Dtype \n",
      "---  ------                            --------------  ----- \n",
      " 0   Hours Studied                     10000 non-null  int64 \n",
      " 1   Previous Scores                   10000 non-null  int64 \n",
      " 2   Extracurricular Activities        10000 non-null  int64 \n",
      " 3   Sleep Hours                       10000 non-null  int64 \n",
      " 4   Sample Question Papers Practiced  10000 non-null  int64 \n",
      " 5   Performance Index                 10000 non-null  object\n",
      "dtypes: int64(5), object(1)\n",
      "memory usage: 468.9+ KB\n"
     ]
    }
   ],
   "source": [
    "data.info()"
   ]
  },
  {
   "cell_type": "code",
   "execution_count": 140,
   "id": "3106ccb4",
   "metadata": {},
   "outputs": [
    {
     "name": "stdout",
     "output_type": "stream",
     "text": [
      "<class 'pandas.core.frame.DataFrame'>\n",
      "RangeIndex: 10000 entries, 0 to 9999\n",
      "Data columns (total 6 columns):\n",
      " #   Column                            Non-Null Count  Dtype \n",
      "---  ------                            --------------  ----- \n",
      " 0   Hours Studied                     10000 non-null  int64 \n",
      " 1   Previous Scores                   10000 non-null  int64 \n",
      " 2   Extracurricular Activities        10000 non-null  int64 \n",
      " 3   Sleep Hours                       10000 non-null  int64 \n",
      " 4   Sample Question Papers Practiced  10000 non-null  int64 \n",
      " 5   Performance Index                 10000 non-null  object\n",
      "dtypes: int64(5), object(1)\n",
      "memory usage: 468.9+ KB\n"
     ]
    }
   ],
   "source": [
    "# Fill NaNs con la media de la columna\n",
    "data.fillna(data['Extracurricular Activities'].median(), inplace=True)\n",
    "data.info()"
   ]
  },
  {
   "cell_type": "markdown",
   "id": "ac0e4067",
   "metadata": {},
   "source": [
    "## **Data split**"
   ]
  },
  {
   "cell_type": "code",
   "execution_count": 141,
   "id": "15ef8ed8",
   "metadata": {},
   "outputs": [],
   "source": [
    "# Split data into features and target\n",
    "X = data.drop(\"Performance Index\", axis=1)\n",
    "y = data[\"Performance Index\"]\n",
    "\n",
    "# Split data into training and testing sets sin usar sklearn\n",
    "train_size = int(0.8 * len(X))\n",
    "X_train, X_test = X[:train_size], X[train_size:]\n",
    "y_train, y_test = y[:train_size], y[train_size:]"
   ]
  },
  {
   "cell_type": "code",
   "execution_count": 142,
   "id": "2833a40f",
   "metadata": {},
   "outputs": [
    {
     "name": "stdout",
     "output_type": "stream",
     "text": [
      "X_train tiene:  8000  datos\n",
      "      Hours Studied  Previous Scores  Extracurricular Activities  Sleep Hours  \\\n",
      "0                 7               99                           1            9   \n",
      "1                 4               82                           0            4   \n",
      "2                 8               51                           1            7   \n",
      "3                 5               52                           1            5   \n",
      "4                 7               75                           0            8   \n",
      "...             ...              ...                         ...          ...   \n",
      "7995              9               77                           1            7   \n",
      "7996              7               53                           0            4   \n",
      "7997              5               86                           1            8   \n",
      "7998              7               53                           1            6   \n",
      "7999              3               82                           0            8   \n",
      "\n",
      "      Sample Question Papers Practiced  \n",
      "0                                    1  \n",
      "1                                    2  \n",
      "2                                    2  \n",
      "3                                    2  \n",
      "4                                    5  \n",
      "...                                ...  \n",
      "7995                                 5  \n",
      "7996                                 2  \n",
      "7997                                 8  \n",
      "7998                                 3  \n",
      "7999                                 3  \n",
      "\n",
      "[8000 rows x 5 columns]\n"
     ]
    }
   ],
   "source": [
    "# Show train data\n",
    "print(\"X_train tiene: \",len(X_train), \" datos\")\n",
    "print(X_train)"
   ]
  },
  {
   "cell_type": "code",
   "execution_count": 143,
   "id": "6bf7cafa",
   "metadata": {},
   "outputs": [
    {
     "name": "stdout",
     "output_type": "stream",
     "text": [
      "y_train tiene:  8000  datos\n",
      "0       Passed\n",
      "1       Failed\n",
      "2       Failed\n",
      "3       Failed\n",
      "4       Failed\n",
      "         ...  \n",
      "7995    Passed\n",
      "7996    Failed\n",
      "7997    Failed\n",
      "7998    Failed\n",
      "7999    Failed\n",
      "Name: Performance Index, Length: 8000, dtype: object\n"
     ]
    }
   ],
   "source": [
    "print(\"y_train tiene: \",len(y_train), \" datos\")\n",
    "print(y_train)"
   ]
  },
  {
   "cell_type": "code",
   "execution_count": 144,
   "id": "0d49834a",
   "metadata": {},
   "outputs": [
    {
     "name": "stdout",
     "output_type": "stream",
     "text": [
      "X_test tiene:  2000  datos\n",
      "      Hours Studied  Previous Scores  Extracurricular Activities  Sleep Hours  \\\n",
      "8000              2               50                           0            4   \n",
      "8001              5               48                           1            8   \n",
      "8002              4               77                           1            8   \n",
      "8003              5               86                           1            6   \n",
      "8004              8               83                           1            4   \n",
      "...             ...              ...                         ...          ...   \n",
      "9995              1               49                           1            4   \n",
      "9996              7               64                           1            8   \n",
      "9997              6               83                           1            8   \n",
      "9998              9               97                           1            7   \n",
      "9999              7               74                           0            8   \n",
      "\n",
      "      Sample Question Papers Practiced  \n",
      "8000                                 1  \n",
      "8001                                 1  \n",
      "8002                                 6  \n",
      "8003                                 4  \n",
      "8004                                 2  \n",
      "...                                ...  \n",
      "9995                                 2  \n",
      "9996                                 5  \n",
      "9997                                 5  \n",
      "9998                                 0  \n",
      "9999                                 1  \n",
      "\n",
      "[2000 rows x 5 columns]\n"
     ]
    }
   ],
   "source": [
    "# Show test data\n",
    "print(\"X_test tiene: \",len(X_test), \" datos\")\n",
    "print(X_test)"
   ]
  },
  {
   "cell_type": "code",
   "execution_count": 145,
   "id": "dbfb1d34",
   "metadata": {},
   "outputs": [
    {
     "name": "stdout",
     "output_type": "stream",
     "text": [
      "y_test tiene:  2000  datos\n",
      "8000    Failed\n",
      "8001    Failed\n",
      "8002    Failed\n",
      "8003    Passed\n",
      "8004    Passed\n",
      "         ...  \n",
      "9995    Failed\n",
      "9996    Failed\n",
      "9997    Passed\n",
      "9998    Passed\n",
      "9999    Failed\n",
      "Name: Performance Index, Length: 2000, dtype: object\n"
     ]
    }
   ],
   "source": [
    "print(\"y_test tiene: \",len(y_test), \" datos\")\n",
    "print(y_test)"
   ]
  },
  {
   "cell_type": "markdown",
   "id": "6924d5bb",
   "metadata": {},
   "source": [
    "## **Gradient descent: Feed forward Propagation**"
   ]
  },
  {
   "cell_type": "code",
   "execution_count": 146,
   "id": "cbbdf763",
   "metadata": {},
   "outputs": [
    {
     "data": {
      "text/plain": [
       "[0.1, 0.8, 0.2, 0.6, 0.3]"
      ]
     },
     "execution_count": 146,
     "metadata": {},
     "output_type": "execute_result"
    }
   ],
   "source": [
    "# Inicialización de pesos entre -0.5 y 0.5 \n",
    "weights = [0.1,0.8,0.2,0.6,0.3]\n",
    "weights"
   ]
  },
  {
   "cell_type": "markdown",
   "id": "bdb301fd",
   "metadata": {},
   "source": [
    "### **Training set**"
   ]
  },
  {
   "cell_type": "code",
   "execution_count": 147,
   "id": "a93abda4",
   "metadata": {},
   "outputs": [
    {
     "data": {
      "text/plain": [
       "0       86.0\n",
       "1       69.0\n",
       "2       47.0\n",
       "3       46.0\n",
       "4       67.0\n",
       "        ... \n",
       "7995    68.0\n",
       "7996    46.0\n",
       "7997    77.0\n",
       "7998    48.0\n",
       "7999    72.0\n",
       "Length: 8000, dtype: float64"
      ]
     },
     "execution_count": 147,
     "metadata": {},
     "output_type": "execute_result"
    }
   ],
   "source": [
    "vals_xw = X_train * weights\n",
    "predictions_train = np.sum(vals_xw, axis=1).round()\n",
    "for i in range(len(predictions_train)):\n",
    "    if predictions_train[i] < 0:\n",
    "        predictions_train[i] = 0\n",
    "    elif predictions_train[i] > 100:\n",
    "        predictions_train[i] = 100\n",
    "predictions_train"
   ]
  },
  {
   "cell_type": "code",
   "execution_count": 148,
   "id": "57dc7265",
   "metadata": {},
   "outputs": [
    {
     "data": {
      "text/plain": [
       "array([86., 69., 47., 46., 67., 70., 64., 41., 68., 74., 78., 44., 61.,\n",
       "       65., 72., 49., 83., 66., 73., 54., 56., 71., 81., 76., 42., 63.,\n",
       "       48., 85., 53., 59., 39., 84., 51., 62., 82., 43., 79., 57., 77.,\n",
       "       40., 60., 55., 38., 50., 80., 52., 75., 45., 58., 37., 87., 35.,\n",
       "       36., 88.])"
      ]
     },
     "execution_count": 148,
     "metadata": {},
     "output_type": "execute_result"
    }
   ],
   "source": [
    "predictions_train.unique()"
   ]
  },
  {
   "cell_type": "code",
   "execution_count": 149,
   "id": "f50170de",
   "metadata": {},
   "outputs": [
    {
     "data": {
      "text/plain": [
       "array(['Passed', 'Failed'], dtype=object)"
      ]
     },
     "execution_count": 149,
     "metadata": {},
     "output_type": "execute_result"
    }
   ],
   "source": [
    "# Transformar predictions_train en categórica\n",
    "predictions_train = ['Passed' if x > 70 else 'Failed' for x in predictions_train]\n",
    "predictions_train = pd.Series(predictions_train)\n",
    "predictions_train.unique()\n"
   ]
  },
  {
   "cell_type": "code",
   "execution_count": 150,
   "id": "115d33da",
   "metadata": {},
   "outputs": [
    {
     "data": {
      "text/plain": [
       "<Axes: >"
      ]
     },
     "execution_count": 150,
     "metadata": {},
     "output_type": "execute_result"
    },
    {
     "data": {
      "image/png": "[encoded data removed]",
      "text/plain": [
       "<Figure size 640x480 with 2 Axes>"
      ]
     },
     "metadata": {},
     "output_type": "display_data"
    }
   ],
   "source": [
    "# Matriz de confusión y_train vs predictions_train\n",
    "from sklearn.metrics import confusion_matrix\n",
    "import seaborn as sns\n",
    "\n",
    "cm = confusion_matrix(y_train, predictions_train)\n",
    "sns.heatmap(cm, annot=True, fmt=\"d\", cmap=\"magma\", xticklabels=['Failed', 'Passed'], yticklabels=['Failed', 'Passed'])    "
   ]
  },
  {
   "cell_type": "code",
   "execution_count": 151,
   "id": "9e89787f",
   "metadata": {},
   "outputs": [
    {
     "name": "stdout",
     "output_type": "stream",
     "text": [
      "              precision    recall  f1-score   support\n",
      "\n",
      "      Failed       0.96      0.88      0.92      5997\n",
      "      Passed       0.72      0.90      0.80      2003\n",
      "\n",
      "    accuracy                           0.89      8000\n",
      "   macro avg       0.84      0.89      0.86      8000\n",
      "weighted avg       0.90      0.89      0.89      8000\n",
      "\n"
     ]
    }
   ],
   "source": [
    "# Métricas de desempeño\n",
    "from sklearn.metrics import classification_report\n",
    "print(classification_report(y_train, predictions_train))"
   ]
  },
  {
   "cell_type": "markdown",
   "id": "48c4a4bb",
   "metadata": {},
   "source": [
    "### **Testing set**"
   ]
  },
  {
   "cell_type": "code",
   "execution_count": 152,
   "id": "1cac585f",
   "metadata": {},
   "outputs": [
    {
     "data": {
      "text/plain": [
       "array(['Failed', 'Passed'], dtype=object)"
      ]
     },
     "execution_count": 152,
     "metadata": {},
     "output_type": "execute_result"
    }
   ],
   "source": [
    "# Evaluar modelo en conjunto de prueba\n",
    "vals_xw_test = X_test * weights\n",
    "predictions_test = np.sum(vals_xw_test, axis=1).round()\n",
    "predictions_test = ['Passed' if x > 70 else 'Failed' for x in predictions_test]\n",
    "predictions_test = pd.Series(predictions_test)\n",
    "predictions_test.unique()\n"
   ]
  },
  {
   "cell_type": "code",
   "execution_count": 153,
   "id": "219eeb46",
   "metadata": {},
   "outputs": [
    {
     "data": {
      "text/plain": [
       "<Axes: >"
      ]
     },
     "execution_count": 153,
     "metadata": {},
     "output_type": "execute_result"
    },
    {
     "data": {
      "image/png": "[encoded data removed]",
      "text/plain": [
       "<Figure size 640x480 with 2 Axes>"
      ]
     },
     "metadata": {},
     "output_type": "display_data"
    }
   ],
   "source": [
    "# Matriz de confusión y_train vs predictions_train\n",
    "from sklearn.metrics import confusion_matrix\n",
    "import seaborn as sns\n",
    "\n",
    "cm = confusion_matrix(y_test, predictions_test)\n",
    "sns.heatmap(cm, annot=True, fmt=\"d\", cmap=\"magma\", xticklabels=['Failed', 'Passed'], yticklabels=['Failed', 'Passed']) "
   ]
  },
  {
   "cell_type": "code",
   "execution_count": 154,
   "id": "b66bbdcc",
   "metadata": {},
   "outputs": [
    {
     "name": "stdout",
     "output_type": "stream",
     "text": [
      "              precision    recall  f1-score   support\n",
      "\n",
      "      Failed       0.97      0.89      0.93      1498\n",
      "      Passed       0.73      0.92      0.82       502\n",
      "\n",
      "    accuracy                           0.90      2000\n",
      "   macro avg       0.85      0.90      0.87      2000\n",
      "weighted avg       0.91      0.90      0.90      2000\n",
      "\n"
     ]
    }
   ],
   "source": [
    "# Métricas de desempeño\n",
    "from sklearn.metrics import classification_report\n",
    "print(classification_report(y_test, predictions_test))"
   ]
  },
  {
   "cell_type": "code",
   "execution_count": null,
   "id": "64e08d92",
   "metadata": {},
   "outputs": [],
   "source": []
  }
 ],
 "metadata": {
  "kernelspec": {
   "display_name": "retoHousing1",
   "language": "python",
   "name": "python3"
  },
  "language_info": {
   "codemirror_mode": {
    "name": "ipython",
    "version": 3
   },
   "file_extension": ".py",
   "mimetype": "text/x-python",
   "name": "python",
   "nbconvert_exporter": "python",
   "pygments_lexer": "ipython3",
   "version": "3.12.11"
  }
 },
 "nbformat": 4,
 "nbformat_minor": 5
}
